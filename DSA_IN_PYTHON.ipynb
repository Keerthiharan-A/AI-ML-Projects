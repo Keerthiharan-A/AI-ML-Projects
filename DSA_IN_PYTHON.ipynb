{
  "nbformat": 4,
  "nbformat_minor": 0,
  "metadata": {
    "colab": {
      "provenance": [],
      "authorship_tag": "ABX9TyMylAa8P+56FSqJ1CjbF+6A"
    },
    "kernelspec": {
      "name": "python3",
      "display_name": "Python 3"
    },
    "language_info": {
      "name": "python"
    }
  },
  "cells": [
    {
      "cell_type": "code",
      "execution_count": null,
      "metadata": {
        "id": "QvUZupB9Kt35",
        "colab": {
          "base_uri": "https://localhost:8080/"
        },
        "outputId": "6b8e1086-367a-4ac9-a19f-9d6c84d633bb"
      },
      "outputs": [
        {
          "output_type": "stream",
          "name": "stdout",
          "text": [
            "4\n"
          ]
        }
      ],
      "source": [
        "def gcd(m,n):\n",
        "  cf=[]\n",
        "  for i in range(1,min(n,m)+1):\n",
        "    if m%i==0 and n%i==0:\n",
        "      cf.append(i)\n",
        "  return(cf[-1])\n",
        "print(gcd(8,12))"
      ]
    },
    {
      "cell_type": "code",
      "source": [
        "import sys\n",
        "sys.setrecursionlimit(2**31-1)"
      ],
      "metadata": {
        "id": "llrDWFuurQpo"
      },
      "execution_count": null,
      "outputs": []
    },
    {
      "cell_type": "code",
      "source": [
        "def quicksort(L,l,r):\n",
        "  if r-l<=1:\n",
        "    return(L)\n",
        "  (pivot,lower,upper)=(L[l],l+1,l+1)\n",
        "  for i in range(l+1,r):\n",
        "    if L[i]>pivot:\n",
        "      upper=upper+1\n",
        "    else:\n",
        "      (L[lower],L[i])=(L[i],L[lower])\n",
        "      (lower,upper)=(lower+1,upper+1)\n",
        "  (L[l],L[lower-1])=(L[lower-1],L[1])\n",
        "  lower=lower-1\n",
        "  quicksort(L,1,lower)\n",
        "  quicksort(L,lower+1,upper)\n",
        "  return(L)"
      ],
      "metadata": {
        "id": "FgMeLtQ-7Yj3"
      },
      "execution_count": null,
      "outputs": []
    },
    {
      "cell_type": "code",
      "source": [
        "import numpy as np\n",
        "zerolist=[0,0,0]\n",
        "zeromatrix=[zerolist,zerolist,zerolist]\n",
        "print(zeromatrix)\n",
        "zeromatrix[1][1]=1\n",
        "print(zeromatrix)\n",
        "zeroMatrix=np.array([[1,0],[0,1]])\n",
        "print(zeroMatrix)"
      ],
      "metadata": {
        "colab": {
          "base_uri": "https://localhost:8080/"
        },
        "id": "Ef5qIxh6AEZl",
        "outputId": "3d8063ae-0091-4dd5-d875-dcbdc142acd7"
      },
      "execution_count": null,
      "outputs": [
        {
          "output_type": "stream",
          "name": "stdout",
          "text": [
            "[[0, 0, 0], [0, 0, 0], [0, 0, 0]]\n",
            "[[0, 1, 0], [0, 1, 0], [0, 1, 0]]\n",
            "[[1 0]\n",
            " [0 1]]\n"
          ]
        }
      ]
    },
    {
      "cell_type": "code",
      "source": [
        "def selectionsort(L):\n",
        "  n=len(L)\n",
        "  if n==1:\n",
        "    return(L)\n",
        "  for i in range(n):\n",
        "    mpos=i\n",
        "    for j in range(i+1,n):\n",
        "      if L[j]<L[mpos]:\n",
        "        mpos=j\n",
        "    (L[i],L[mpos])=(L[mpos],L[i])\n",
        "  return(L)\n",
        "print(selectionsort([1,3,4,6,2,7]))"
      ],
      "metadata": {
        "colab": {
          "base_uri": "https://localhost:8080/"
        },
        "id": "fSmWQwAIzC0e",
        "outputId": "b1062529-0f38-4b64-91eb-d014963b5dcb"
      },
      "execution_count": null,
      "outputs": [
        {
          "output_type": "stream",
          "name": "stdout",
          "text": [
            "[1, 2, 3, 4, 6, 7]\n"
          ]
        }
      ]
    },
    {
      "cell_type": "code",
      "source": [
        "def combinationsort(strList):\n",
        "    L1=sorted(strList)\n",
        "    return L1\n",
        "strList=['a23','b25','b21','a20','b10']\n",
        "print(combinationsort(strList))"
      ],
      "metadata": {
        "id": "yV3gCPgmg_46",
        "outputId": "2dea3568-52ae-4b70-92c3-070fd649d7b9",
        "colab": {
          "base_uri": "https://localhost:8080/"
        }
      },
      "execution_count": null,
      "outputs": [
        {
          "output_type": "stream",
          "name": "stdout",
          "text": [
            "['a20', 'a23', 'b10', 'b21', 'b25']\n"
          ]
        }
      ]
    },
    {
      "cell_type": "code",
      "source": [
        "def odd_one(L):\n",
        "  count1=0\n",
        "  count2=0\n",
        "  count3=0\n",
        "  count4=0\n",
        "  for i in L:\n",
        "    if type(i)==int:\n",
        "      count1+=1\n",
        "    elif type(i)==str:\n",
        "      count2+=1\n",
        "    elif type(i)==float:\n",
        "      count3+=1\n",
        "    elif type(i)==bool:\n",
        "      count4+=1\n",
        "  if count1==1:\n",
        "    return(\"int\")\n",
        "  if count2==1:\n",
        "    return(\"str\")\n",
        "  if count3==1:\n",
        "    return(\"float\")\n",
        "  if count4==1:\n",
        "    return(\"bool\")\n",
        "print(odd_one(eval(input().strip())))"
      ],
      "metadata": {
        "colab": {
          "base_uri": "https://localhost:8080/"
        },
        "id": "88kX3xp10Z5z",
        "outputId": "90bfc842-b32f-406c-cf4c-1d66d8149ea9"
      },
      "execution_count": null,
      "outputs": [
        {
          "output_type": "stream",
          "name": "stdout",
          "text": [
            "[2,13,16,4.5]\n",
            "float\n"
          ]
        }
      ]
    },
    {
      "cell_type": "code",
      "source": [
        "def Insert(L,v):\n",
        "  n=len(L)\n",
        "  if n==0:\n",
        "    return([v])\n",
        "  if v>=L[-1]:\n",
        "    return(L+[v])\n",
        "  else:\n",
        "    return(Insert(L[:-1],v)+[L[-1]])\n",
        "def InsertionSort(L):\n",
        "  n=len(L)\n",
        "  if n<1:\n",
        "    return(L)\n",
        "  L=Insert(InsertionSort(L[:-1]),L[-1])\n",
        "  return(L)\n",
        "print(InsertionSort([1,5,2,6,63,5,7]))"
      ],
      "metadata": {
        "colab": {
          "base_uri": "https://localhost:8080/"
        },
        "id": "L72iLjtDARYi",
        "outputId": "3214f6bd-9762-4dff-a754-e684557cddc5"
      },
      "execution_count": null,
      "outputs": [
        {
          "output_type": "stream",
          "name": "stdout",
          "text": [
            "[1, 2, 5, 5, 6, 7, 63]\n"
          ]
        }
      ]
    },
    {
      "cell_type": "code",
      "source": [
        "def Goldbach(n):\n",
        "  tp=[]\n",
        "  pl=[2]\n",
        "  count=0\n",
        "  for i in range(3,n):\n",
        "    for l in range(2,i):\n",
        "      if i%l==0:\n",
        "        count=1\n",
        "        break\n",
        "      else:\n",
        "        count=0\n",
        "    if count==0:\n",
        "      pl.append(i)\n",
        "  for k in range(int(len(pl))):\n",
        "    for m in range(k,len(pl)):\n",
        "      if pl[k]+pl[m]==n:\n",
        "        tp.append((pl[k],pl[m]))\n",
        "  return(tp)\n",
        "n=int(input())\n",
        "print(sorted(Goldbach(n)))"
      ],
      "metadata": {
        "colab": {
          "base_uri": "https://localhost:8080/"
        },
        "id": "wwpQqZRaSpYS",
        "outputId": "d6fdf363-61ec-47b6-a0e5-df7840c9515b"
      },
      "execution_count": null,
      "outputs": [
        {
          "output_type": "stream",
          "name": "stdout",
          "text": [
            "26\n",
            "[(3, 23), (7, 19), (13, 13)]\n"
          ]
        }
      ]
    },
    {
      "cell_type": "code",
      "source": [
        "def Find_Min_Diff(L,P):\n",
        "  L.sort()\n",
        "  temp=[0]*P\n",
        "  for i in range(P):\n",
        "    temp[i]=L[i]\n",
        "  min=temp[P-1]-temp[0]\n",
        "  l=1\n",
        "  while(l+P<=len(L)):\n",
        "    for i in range(l,l+P):\n",
        "      temp[i-l]=L[i]\n",
        "    if(temp[P-1]-temp[0]<min):\n",
        "      min=temp[P-1]-temp[0]\n",
        "    l=l+1\n",
        "  return(min)\n",
        "print(Find_Min_Diff([3,4,1,9,56,7,9,12],5))"
      ],
      "metadata": {
        "colab": {
          "base_uri": "https://localhost:8080/"
        },
        "id": "Jk62Yve58Nm9",
        "outputId": "7357cb83-03fa-4b46-fe3f-ac34eea78fbe"
      },
      "execution_count": null,
      "outputs": [
        {
          "output_type": "stream",
          "name": "stdout",
          "text": [
            "6\n"
          ]
        }
      ]
    },
    {
      "cell_type": "code",
      "source": [
        "class Point:\n",
        "  def __init__(self,a=0,b=0):\n",
        "    import math\n",
        "    self.r=math.sqrt(a*a+b*b)\n",
        "    if a==0:\n",
        "      self.theta=0\n",
        "    else:\n",
        "      self.theta=math.atan(b/a)\n",
        "  def translate(self,dx,dy):\n",
        "    import math\n",
        "    x=self.r*math.cos(self.theta)\n",
        "    y=self.r*math.sin(self.theta)\n",
        "    x +=dx\n",
        "    y +=dy\n",
        "    self.r=math.sqrt(x*x+y*y)\n",
        "    if x==0:\n",
        "      self.theta=0\n",
        "    else:\n",
        "      self.theta=math.atan(y/x)\n",
        "  def odist(self):\n",
        "    return(self.r)\n",
        "  def __str__(self):\n",
        "    return('('+str(self.r)+','+str(self.theta)+')')\n",
        "p=Point(3,4)\n",
        "p.translate(2,3)\n",
        "print(p)"
      ],
      "metadata": {
        "id": "oZOAxs43cPh1",
        "colab": {
          "base_uri": "https://localhost:8080/"
        },
        "outputId": "4f34b3e9-60e1-402c-85e4-a4d350825317"
      },
      "execution_count": null,
      "outputs": [
        {
          "output_type": "stream",
          "name": "stdout",
          "text": [
            "(8.602325267042627,0.9505468408120751)\n"
          ]
        }
      ]
    },
    {
      "cell_type": "code",
      "source": [],
      "metadata": {
        "id": "YxbNE3NIiYox"
      },
      "execution_count": null,
      "outputs": []
    },
    {
      "cell_type": "code",
      "source": [
        "import math\n",
        "def Twin_Primes(n,m):\n",
        "    pl=[]\n",
        "    tp=[]\n",
        "    count=0\n",
        "    for i in range(min(m,n),max(n,m)+1):\n",
        "        for l in range(2,int(math.sqrt(i))+1):\n",
        "            if i%l==0:\n",
        "                count=1\n",
        "                break\n",
        "            else:\n",
        "                count=0\n",
        "        if count==0:\n",
        "            pl.append(i)\n",
        "    for k in range(len(pl)-1):\n",
        "        if pl[k+1]-pl[k]==2:\n",
        "            tp.append((pl[k],pl[k+1]))\n",
        "    return(tp)\n",
        "\n",
        "n=int(input())\n",
        "m=int(input())\n",
        "print(sorted(Twin_Primes(n, m)))"
      ],
      "metadata": {
        "colab": {
          "base_uri": "https://localhost:8080/"
        },
        "id": "RLOaofFzLvSZ",
        "outputId": "c980a3a2-191b-439b-fab2-931c9c94eb9d"
      },
      "execution_count": null,
      "outputs": [
        {
          "output_type": "stream",
          "name": "stdout",
          "text": [
            "4\n",
            "10\n",
            "[(5, 7)]\n"
          ]
        }
      ]
    },
    {
      "cell_type": "code",
      "source": [
        "class Person:\n",
        "  def __init__(self,name):\n",
        "    self.name=name\n",
        "  def say_hi(self):\n",
        "    print('Hello,', self.name)\n",
        "p=Person('Good morning')\n",
        "p.say_hi()"
      ],
      "metadata": {
        "colab": {
          "base_uri": "https://localhost:8080/"
        },
        "id": "31aE-eWwWa57",
        "outputId": "799db6f0-3cf2-4108-baec-27f4e49dc861"
      },
      "execution_count": null,
      "outputs": [
        {
          "output_type": "stream",
          "name": "stdout",
          "text": [
            "Hello, Good morning\n"
          ]
        }
      ]
    },
    {
      "cell_type": "code",
      "source": [
        "def prime(n):\n",
        "  result= True\n",
        "  for i in range(2,n):\n",
        "    if n%i==0:\n",
        "      return False\n",
        "  return result\n",
        "print(prime(7))"
      ],
      "metadata": {
        "colab": {
          "base_uri": "https://localhost:8080/"
        },
        "id": "z39_gs4uu5D8",
        "outputId": "6cabd3fc-2480-4a2a-db66-16907a163f64"
      },
      "execution_count": null,
      "outputs": [
        {
          "output_type": "stream",
          "name": "stdout",
          "text": [
            "True\n"
          ]
        }
      ]
    },
    {
      "cell_type": "code",
      "source": [
        "#implementation of Dijkstra's Algorithm:\n",
        "def dijkstralist(WList,s,l):\n",
        "  infinity=1+len(WList.keys())*max([d for u in WList.keys() for (v,d) in WList[u]])\n",
        "  (visited,distance)=({},{})\n",
        "  for v in WList.keys():\n",
        "    (visited[v],distance[v])=(False,infinity)\n",
        "  for (v,d) in WList[s]:\n",
        "    distance[v]=d\n",
        "  distance[s]=0\n",
        "  path={}\n",
        "  for u in WList.keys():\n",
        "    path[u]=[s,]\n",
        "  for u in WList[s]:\n",
        "    nextd=min([distance[v] for v in WList.keys() if not visited[v]])\n",
        "    nextvlist=[v for v in WList.keys() if (not visited[v]) and distance[v]==nextd]\n",
        "    if nextvlist==[]:\n",
        "      break\n",
        "    nextv=min(nextvlist)\n",
        "    visited[nextv]=True\n",
        "    for (v,d) in WList[nextv]:\n",
        "      if not visited[v]:\n",
        "        if distance[v]>distance[nextv]+d:\n",
        "          path[nextv].append(nextv)\n",
        "          distance[v]=distance[nextv]+d\n",
        "    if nextv==l:\n",
        "      print(nextv)\n",
        "      return(distance[l],path[l])\n",
        "  return(distance[l],path[l])\n",
        "dedges = [(0,1,10),(0,2,80),(1,2,6),(1,4,20),(2,3,70),(4,5,50),(4,6,5),(5,6,10)]\n",
        "size = 7\n",
        "WL = {}\n",
        "for i in range(size):\n",
        "    WL[i] = []\n",
        "for (i,j,d) in dedges:\n",
        "    WL[i].append((j,d))\n",
        "    WL[j].append((i,d))\n",
        "print(dijkstralist(WL,1,4))"
      ],
      "metadata": {
        "colab": {
          "base_uri": "https://localhost:8080/"
        },
        "id": "Hxc15-Nq82zh",
        "outputId": "688be45b-d6cf-43c4-fd40-6e37db01b5aa"
      },
      "execution_count": null,
      "outputs": [
        {
          "output_type": "stream",
          "name": "stdout",
          "text": [
            "(20, [1])\n"
          ]
        }
      ]
    },
    {
      "cell_type": "code",
      "source": [
        "import numpy as np\n",
        "def Bellmanford(WMat,s):\n",
        "  (rows,cols,x)=WMat.shape\n",
        "  infinity=1+np.max(WMat)*rows\n",
        "  distance={}\n",
        "  for v in range(rows):\n",
        "    distance[v]=infinity\n",
        "  distance[s]=0\n",
        "  for i in range(rows):\n",
        "    for u in range(rows):\n",
        "      for v in range(cols):\n",
        "        if WMat[u,v,0]==1:\n",
        "          distance[v]=min(distance[v],distance[u]+WMat[u,v,1])\n",
        "  return(distance)\n",
        "  #works only when there are no negative cycles"
      ],
      "metadata": {
        "id": "Qc2gzQQE9EqU"
      },
      "execution_count": null,
      "outputs": []
    },
    {
      "cell_type": "code",
      "source": [
        "import numpy as np\n",
        "def floydwarshall(WMat):\n",
        "  (rows,cols,x)=WMat.shape\n",
        "  infinity=1+np.max(WMat)*rows*rows\n",
        "  SP=np.zeros(shape=(rows,cols,cols+1))\n",
        "  for i in range(rows):\n",
        "    for j in range(cols):\n",
        "      if WMat[i,j,0]==1:\n",
        "        SP[i,j,0]=WMat[i,j,1]\n",
        "      else:\n",
        "        SP[i,j,0]=infinity\n",
        "  for k in range(1,cols+1):\n",
        "    for i in range(rows):\n",
        "      for j in range(cols):\n",
        "        SP[i,j,k]=min(SP[i,j,k-1],SP[i,k-1,k-1]+SP[k-1,j,k-1])\n",
        "  return(SP[:,:,cols])"
      ],
      "metadata": {
        "id": "dwbn90zodZeE"
      },
      "execution_count": null,
      "outputs": []
    },
    {
      "cell_type": "code",
      "source": [
        "def primlist(WList,s):\n",
        "  infinity=1+max([d for u in WList.keys() for (v,d) in WList[u]])\n",
        "  (visited,distance,nbr)=({},{},{})\n",
        "  for u in WList.keys():\n",
        "    visited[u]=False\n",
        "    distance[u]=infinity\n",
        "    nbr[u]=-1\n",
        "  visited[s]=True\n",
        "  for (v,d) in WList[s]:\n",
        "    (distance[v],nbr[v])=(d,s)\n",
        "  for i in range(1,len(WList.keys())):\n",
        "    nextd=min([distance[v] for v in WList.keys() if not visited[v]])\n",
        "    nextvlist=[v for v in WList.keys() if(not visited[v]) and distance[v]==nextd]\n",
        "    if nextvlist==[]:\n",
        "      break\n",
        "    nextv=min(nextvlist)\n",
        "    visited[nextv]=True\n",
        "    for (v,d) in WList[nextv]:\n",
        "      if not visited[v]:\n",
        "        (distance[v],nbr[v])=(min(distance[v],d),nextv)\n",
        "  return(nbr)\n",
        "#an example case\n",
        "dedges = [(0,1,10),(0,3,18),(1,2,20),(1,3,6),(2,4,8),(3,4,70)]\n",
        "edges = dedges + [(j,i,w) for (i,j,w) in dedges]\n",
        "size = 5\n",
        "WL = {}\n",
        "for i in range(size):\n",
        "    WL[i] = []\n",
        "for (i,j,d) in edges:\n",
        "    WL[i].append((j,d))\n",
        "print(primlist(WL))"
      ],
      "metadata": {
        "colab": {
          "base_uri": "https://localhost:8080/"
        },
        "id": "NU6oQZq8W-ln",
        "outputId": "be243a32-68ec-405c-c0bc-1c293a85531a"
      },
      "execution_count": null,
      "outputs": [
        {
          "output_type": "stream",
          "name": "stdout",
          "text": [
            "{0: -1, 1: 0, 2: 1, 3: 1, 4: 2}\n"
          ]
        }
      ]
    },
    {
      "cell_type": "code",
      "source": [],
      "metadata": {
        "id": "eJ1gsj8epFxH"
      },
      "execution_count": null,
      "outputs": []
    }
  ]
}